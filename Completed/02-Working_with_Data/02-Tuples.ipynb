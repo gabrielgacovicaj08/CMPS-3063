{
  "cells": [
    {
      "cell_type": "markdown",
      "id": "4fc4e076",
      "metadata": {
        "id": "4fc4e076"
      },
      "source": [
        "# 📘 02 - Python Tuples\n",
        "\n",
        "Learn what tuples are and how to use them."
      ]
    },
    {
      "cell_type": "markdown",
      "id": "0ec947dd",
      "metadata": {
        "id": "0ec947dd"
      },
      "source": [
        "## ✅ Learning Goals\n",
        "- Create and access tuples\n",
        "- Understand immutability\n",
        "- Use tuple unpacking"
      ]
    },
    {
      "cell_type": "code",
      "execution_count": 1,
      "id": "467cf803",
      "metadata": {
        "id": "467cf803",
        "outputId": "010c4350-df71-4082-8c39-86ee1a662aa9",
        "colab": {
          "base_uri": "https://localhost:8080/"
        }
      },
      "outputs": [
        {
          "output_type": "stream",
          "name": "stdout",
          "text": [
            "(5, 10)\n"
          ]
        }
      ],
      "source": [
        "# 🔧 Create a Tuple\n",
        "coords = (5, 10)\n",
        "print(coords)"
      ]
    },
    {
      "cell_type": "code",
      "execution_count": 2,
      "id": "13b643c4",
      "metadata": {
        "id": "13b643c4",
        "outputId": "ca97c2fe-cc93-4768-81dd-e85f3da94c46",
        "colab": {
          "base_uri": "https://localhost:8080/"
        }
      },
      "outputs": [
        {
          "output_type": "stream",
          "name": "stdout",
          "text": [
            "X: 5\n",
            "Y: 10\n"
          ]
        }
      ],
      "source": [
        "# 🔍 Indexing\n",
        "print('X:', coords[0])\n",
        "print('Y:', coords[1])"
      ]
    },
    {
      "cell_type": "code",
      "execution_count": 3,
      "id": "2c780aea",
      "metadata": {
        "id": "2c780aea",
        "outputId": "a25a11be-4428-4882-c42e-df2fabb8e951",
        "colab": {
          "base_uri": "https://localhost:8080/"
        }
      },
      "outputs": [
        {
          "output_type": "stream",
          "name": "stdout",
          "text": [
            "x + y = 15\n"
          ]
        }
      ],
      "source": [
        "# 🔁 Tuple Unpacking\n",
        "x, y = coords\n",
        "print('x + y =', x + y)"
      ]
    },
    {
      "cell_type": "markdown",
      "id": "3a71407c",
      "metadata": {
        "id": "3a71407c"
      },
      "source": [
        "## 🚫 Tuples are immutable\n",
        "Try uncommenting the line below to see what happens:\n",
        "```python\n",
        "coords[0] = 100\n",
        "```"
      ]
    },
    {
      "cell_type": "markdown",
      "id": "853762bc",
      "metadata": {
        "id": "853762bc"
      },
      "source": [
        "## ✏️ Your Turn\n",
        "Create a tuple to store your birthday as `(month, day, year)`."
      ]
    },
    {
      "cell_type": "code",
      "source": [
        "birthday = (5, 8, 1999)"
      ],
      "metadata": {
        "id": "fslAzTFLsF3F"
      },
      "id": "fslAzTFLsF3F",
      "execution_count": 6,
      "outputs": []
    },
    {
      "cell_type": "code",
      "source": [
        "birthday[1]"
      ],
      "metadata": {
        "id": "3l3094GxsNiT",
        "outputId": "33f4405c-fc0f-45f7-906d-aeffbf0fe9e0",
        "colab": {
          "base_uri": "https://localhost:8080/"
        }
      },
      "id": "3l3094GxsNiT",
      "execution_count": 7,
      "outputs": [
        {
          "output_type": "execute_result",
          "data": {
            "text/plain": [
              "8"
            ]
          },
          "metadata": {},
          "execution_count": 7
        }
      ]
    },
    {
      "cell_type": "code",
      "source": [],
      "metadata": {
        "id": "T1srZ8z5sTMS"
      },
      "id": "T1srZ8z5sTMS",
      "execution_count": null,
      "outputs": []
    }
  ],
  "metadata": {
    "colab": {
      "provenance": []
    },
    "language_info": {
      "name": "python"
    },
    "kernelspec": {
      "name": "python3",
      "display_name": "Python 3"
    }
  },
  "nbformat": 4,
  "nbformat_minor": 5
}