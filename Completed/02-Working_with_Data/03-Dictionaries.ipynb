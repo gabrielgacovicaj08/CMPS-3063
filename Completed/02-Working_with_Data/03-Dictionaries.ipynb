{
  "cells": [
    {
      "cell_type": "markdown",
      "id": "ba110f51",
      "metadata": {
        "id": "ba110f51"
      },
      "source": [
        "# 📘 03 - Python Dictionaries\n",
        "\n",
        "Dictionaries store key-value pairs for fast lookups."
      ]
    },
    {
      "cell_type": "markdown",
      "id": "32ad5c23",
      "metadata": {
        "id": "32ad5c23"
      },
      "source": [
        "## ✅ Learning Goals\n",
        "- Create and access dictionary items\n",
        "- Use dictionary methods like `.get()` and `.items()`"
      ]
    },
    {
      "cell_type": "code",
      "execution_count": 1,
      "id": "d69a5483",
      "metadata": {
        "id": "d69a5483",
        "outputId": "e025496c-993a-40b9-ff10-b8c009a1230a",
        "colab": {
          "base_uri": "https://localhost:8080/"
        }
      },
      "outputs": [
        {
          "output_type": "stream",
          "name": "stdout",
          "text": [
            "{'name': 'Alex', 'age': 21, 'major': 'CS'}\n"
          ]
        }
      ],
      "source": [
        "# 📚 Create a Dictionary\n",
        "student = {'name': 'Alex', 'age': 21, 'major': 'CS'}\n",
        "print(student)"
      ]
    },
    {
      "cell_type": "code",
      "execution_count": 2,
      "id": "c014213d",
      "metadata": {
        "id": "c014213d",
        "outputId": "a346d268-cc61-4f38-b198-b0a99b042fc1",
        "colab": {
          "base_uri": "https://localhost:8080/"
        }
      },
      "outputs": [
        {
          "output_type": "stream",
          "name": "stdout",
          "text": [
            "Alex\n",
            "N/A\n"
          ]
        }
      ],
      "source": [
        "# 🔍 Access Values\n",
        "print(student['name'])\n",
        "print(student.get('gpa', 'N/A'))"
      ]
    },
    {
      "cell_type": "code",
      "execution_count": 3,
      "id": "f80fb0b2",
      "metadata": {
        "id": "f80fb0b2",
        "outputId": "cd12bc21-6c72-458f-cc80-6dbb1261192c",
        "colab": {
          "base_uri": "https://localhost:8080/"
        }
      },
      "outputs": [
        {
          "output_type": "stream",
          "name": "stdout",
          "text": [
            "name -> Alex\n",
            "age -> 21\n",
            "major -> CS\n"
          ]
        }
      ],
      "source": [
        "# 🔁 Loop Over Dictionary\n",
        "for key, value in student.items():\n",
        "    print(key, '->', value)"
      ]
    },
    {
      "cell_type": "markdown",
      "id": "aa0e1c66",
      "metadata": {
        "id": "aa0e1c66"
      },
      "source": [
        "## ✏️ Your Turn\n",
        "Create a dictionary to store information about your favorite book."
      ]
    },
    {
      "cell_type": "code",
      "source": [
        "book = {'title':'Ugly Love', 'author':'Collin Hoover', 'pages':'350' }"
      ],
      "metadata": {
        "id": "-20WpY2Z9_o8"
      },
      "id": "-20WpY2Z9_o8",
      "execution_count": 4,
      "outputs": []
    },
    {
      "cell_type": "code",
      "source": [
        "for key,value in book.items():\n",
        "  print(key, '->', value)"
      ],
      "metadata": {
        "id": "IS82_NzX-Oyq",
        "outputId": "9e722aec-9ba7-40fb-db5f-3baf2f4058fa",
        "colab": {
          "base_uri": "https://localhost:8080/"
        }
      },
      "id": "IS82_NzX-Oyq",
      "execution_count": 6,
      "outputs": [
        {
          "output_type": "stream",
          "name": "stdout",
          "text": [
            "title -> Ugly Love\n",
            "author -> Collin Hoover\n",
            "pages -> 350\n"
          ]
        }
      ]
    },
    {
      "cell_type": "code",
      "source": [],
      "metadata": {
        "id": "s5ecxijg-Tms"
      },
      "id": "s5ecxijg-Tms",
      "execution_count": null,
      "outputs": []
    }
  ],
  "metadata": {
    "colab": {
      "provenance": []
    },
    "language_info": {
      "name": "python"
    },
    "kernelspec": {
      "name": "python3",
      "display_name": "Python 3"
    }
  },
  "nbformat": 4,
  "nbformat_minor": 5
}