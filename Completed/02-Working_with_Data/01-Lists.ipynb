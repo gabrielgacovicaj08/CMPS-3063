{
  "cells": [
    {
      "cell_type": "markdown",
      "id": "47f2636f",
      "metadata": {
        "id": "47f2636f"
      },
      "source": [
        "# 📘 01 - Python Lists\n",
        "\n",
        "Explore how to use lists to store and manipulate data."
      ]
    },
    {
      "cell_type": "markdown",
      "id": "d5e389b6",
      "metadata": {
        "id": "d5e389b6"
      },
      "source": [
        "## ✅ Learning Goals\n",
        "- Create and modify Python lists\n",
        "- Access elements using indexing\n",
        "- Use list methods like `append()`, `remove()`, and `sort()`"
      ]
    },
    {
      "cell_type": "code",
      "execution_count": 1,
      "id": "9244ef55",
      "metadata": {
        "id": "9244ef55",
        "outputId": "c46504ab-5ffa-4696-c480-507a25ed5c9d",
        "colab": {
          "base_uri": "https://localhost:8080/"
        }
      },
      "outputs": [
        {
          "output_type": "stream",
          "name": "stdout",
          "text": [
            "[10, 20, 30, 40, 50]\n"
          ]
        }
      ],
      "source": [
        "# 🔧 Create a List\n",
        "my_list = [10, 20, 30, 40, 50]\n",
        "print(my_list)"
      ]
    },
    {
      "cell_type": "code",
      "execution_count": 2,
      "id": "e767a048",
      "metadata": {
        "id": "e767a048",
        "outputId": "93c7ecbe-b546-4271-d3c4-63c35b4fede9",
        "colab": {
          "base_uri": "https://localhost:8080/"
        }
      },
      "outputs": [
        {
          "output_type": "stream",
          "name": "stdout",
          "text": [
            "First item: 10\n",
            "Last item: 50\n"
          ]
        }
      ],
      "source": [
        "# 🎯 Access Elements\n",
        "print('First item:', my_list[0])\n",
        "print('Last item:', my_list[-1])"
      ]
    },
    {
      "cell_type": "code",
      "execution_count": 3,
      "id": "4d9b40bd",
      "metadata": {
        "id": "4d9b40bd",
        "outputId": "bc553360-a017-4d0f-c282-6dbfb363429e",
        "colab": {
          "base_uri": "https://localhost:8080/"
        }
      },
      "outputs": [
        {
          "output_type": "stream",
          "name": "stdout",
          "text": [
            "[10, 20, 40, 50, 60]\n"
          ]
        }
      ],
      "source": [
        "# ➕ Modify List\n",
        "my_list.append(60)\n",
        "my_list.remove(30)\n",
        "print(my_list)"
      ]
    },
    {
      "cell_type": "code",
      "execution_count": 4,
      "id": "55eff36d",
      "metadata": {
        "id": "55eff36d",
        "outputId": "5cd642a3-b83e-4d32-c7df-be0dfaaa6457",
        "colab": {
          "base_uri": "https://localhost:8080/"
        }
      },
      "outputs": [
        {
          "output_type": "stream",
          "name": "stdout",
          "text": [
            "10\n",
            "20\n",
            "40\n",
            "50\n",
            "60\n"
          ]
        }
      ],
      "source": [
        "# 🔁 Loop Through List\n",
        "for item in my_list:\n",
        "    print(item)"
      ]
    },
    {
      "cell_type": "markdown",
      "id": "efa1162a",
      "metadata": {
        "id": "efa1162a"
      },
      "source": [
        "## ✏️ Your Turn\n",
        "Create your own list of 5 favorite movies and sort them alphabetically."
      ]
    },
    {
      "cell_type": "code",
      "source": [
        "myFavMovies = ['La Vita e Bella', 'The Wolf of Wall Street', 'Warrior', 'Perfect Strangers', 'Good Will Hunting']"
      ],
      "metadata": {
        "id": "7NA8pf0_rFFu"
      },
      "id": "7NA8pf0_rFFu",
      "execution_count": 5,
      "outputs": []
    },
    {
      "cell_type": "code",
      "source": [
        "myFavMovies.sort()"
      ],
      "metadata": {
        "id": "EbjzhpTNrWCE"
      },
      "id": "EbjzhpTNrWCE",
      "execution_count": 6,
      "outputs": []
    },
    {
      "cell_type": "code",
      "source": [
        "myFavMovies"
      ],
      "metadata": {
        "id": "z7Kyvo90rcis",
        "outputId": "543aff74-e99a-4cac-df5a-7ee01ee6cd9c",
        "colab": {
          "base_uri": "https://localhost:8080/"
        }
      },
      "id": "z7Kyvo90rcis",
      "execution_count": 7,
      "outputs": [
        {
          "output_type": "execute_result",
          "data": {
            "text/plain": [
              "['Good Will Hunting',\n",
              " 'La Vita e Bella',\n",
              " 'Perfect Strangers',\n",
              " 'The Wolf of Wall Street',\n",
              " 'Warrior']"
            ]
          },
          "metadata": {},
          "execution_count": 7
        }
      ]
    },
    {
      "cell_type": "code",
      "source": [],
      "metadata": {
        "id": "P9HvdU6Zrdqe"
      },
      "id": "P9HvdU6Zrdqe",
      "execution_count": null,
      "outputs": []
    }
  ],
  "metadata": {
    "colab": {
      "provenance": []
    },
    "language_info": {
      "name": "python"
    },
    "kernelspec": {
      "name": "python3",
      "display_name": "Python 3"
    }
  },
  "nbformat": 4,
  "nbformat_minor": 5
}