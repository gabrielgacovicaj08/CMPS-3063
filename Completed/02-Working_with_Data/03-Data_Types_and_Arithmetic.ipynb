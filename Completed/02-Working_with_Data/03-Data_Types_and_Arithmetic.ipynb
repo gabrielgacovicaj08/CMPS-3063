{
  "cells": [
    {
      "cell_type": "markdown",
      "id": "4b15b08b",
      "metadata": {
        "id": "4b15b08b"
      },
      "source": [
        "# 📘 03 - Data Types and Arithmetic\n",
        "\n",
        "Explore Python basics like variables, data types, and arithmetic operations."
      ]
    },
    {
      "cell_type": "markdown",
      "source": [
        "Gabriel Gacovicaj\n"
      ],
      "metadata": {
        "id": "Tia7hZ479FQT"
      },
      "id": "Tia7hZ479FQT"
    },
    {
      "cell_type": "markdown",
      "id": "fe930277",
      "metadata": {
        "id": "fe930277"
      },
      "source": [
        "## ✅ Learning Goals\n",
        "- Understand Python data types\n",
        "- Use variables and print statements\n",
        "- Perform basic arithmetic"
      ]
    },
    {
      "cell_type": "code",
      "execution_count": 1,
      "id": "8e873f5b",
      "metadata": {
        "id": "8e873f5b",
        "outputId": "8adfd8eb-d75f-4bf0-9ae6-64e21d991739",
        "colab": {
          "base_uri": "https://localhost:8080/"
        }
      },
      "outputs": [
        {
          "output_type": "stream",
          "name": "stdout",
          "text": [
            "<class 'int'> <class 'float'> <class 'str'>\n"
          ]
        }
      ],
      "source": [
        "# 🧠 Variables and Types\n",
        "x = 10\n",
        "y = 3.5\n",
        "z = 'hello'\n",
        "print(type(x), type(y), type(z))"
      ]
    },
    {
      "cell_type": "code",
      "execution_count": 2,
      "id": "e90e2be4",
      "metadata": {
        "id": "e90e2be4",
        "outputId": "f3160b4b-99d7-4885-b8fa-7e07b8ee4b05",
        "colab": {
          "base_uri": "https://localhost:8080/"
        }
      },
      "outputs": [
        {
          "output_type": "stream",
          "name": "stdout",
          "text": [
            "Add: 13.5\n",
            "Divide: 2.857142857142857\n",
            "Floor Divide: 2.0\n",
            "Exponent: 100\n"
          ]
        }
      ],
      "source": [
        "# ➕ Arithmetic Operations\n",
        "print('Add:', x + y)\n",
        "print('Divide:', x / y)\n",
        "print('Floor Divide:', x // y)\n",
        "print('Exponent:', x ** 2)"
      ]
    },
    {
      "cell_type": "markdown",
      "id": "7e233e07",
      "metadata": {
        "id": "7e233e07"
      },
      "source": [
        "## ✏️ Try It Yourself\n",
        "- Create your own variables\n",
        "- Try combining numbers and strings\n",
        "- Use `input()` to interact"
      ]
    },
    {
      "cell_type": "code",
      "execution_count": 3,
      "id": "42b3fc61",
      "metadata": {
        "id": "42b3fc61",
        "outputId": "1462b388-785a-4054-8ac2-e436cc47ea3f",
        "colab": {
          "base_uri": "https://localhost:8080/"
        }
      },
      "outputs": [
        {
          "output_type": "stream",
          "name": "stdout",
          "text": [
            "What is your name? Gabriel\n",
            "Welcome, Gabriel\n"
          ]
        }
      ],
      "source": [
        "# Your code here\n",
        "name = input('What is your name? ')\n",
        "print('Welcome,', name)"
      ]
    },
    {
      "cell_type": "code",
      "source": [
        "a = 'a'\n",
        "num = 3\n",
        "print(a+num)"
      ],
      "metadata": {
        "id": "Gt1zzxby9Lhj",
        "outputId": "ab5a9718-f4e0-49fc-9086-2d4bdc0d08e8",
        "colab": {
          "base_uri": "https://localhost:8080/",
          "height": 176
        }
      },
      "id": "Gt1zzxby9Lhj",
      "execution_count": 4,
      "outputs": [
        {
          "output_type": "error",
          "ename": "TypeError",
          "evalue": "can only concatenate str (not \"int\") to str",
          "traceback": [
            "\u001b[0;31m---------------------------------------------------------------------------\u001b[0m",
            "\u001b[0;31mTypeError\u001b[0m                                 Traceback (most recent call last)",
            "\u001b[0;32m/tmp/ipython-input-3718240621.py\u001b[0m in \u001b[0;36m<cell line: 0>\u001b[0;34m()\u001b[0m\n\u001b[1;32m      1\u001b[0m \u001b[0ma\u001b[0m \u001b[0;34m=\u001b[0m \u001b[0;34m'a'\u001b[0m\u001b[0;34m\u001b[0m\u001b[0;34m\u001b[0m\u001b[0m\n\u001b[1;32m      2\u001b[0m \u001b[0mnum\u001b[0m \u001b[0;34m=\u001b[0m \u001b[0;36m3\u001b[0m\u001b[0;34m\u001b[0m\u001b[0;34m\u001b[0m\u001b[0m\n\u001b[0;32m----> 3\u001b[0;31m \u001b[0mprint\u001b[0m\u001b[0;34m(\u001b[0m\u001b[0ma\u001b[0m\u001b[0;34m+\u001b[0m\u001b[0mnum\u001b[0m\u001b[0;34m)\u001b[0m\u001b[0;34m\u001b[0m\u001b[0;34m\u001b[0m\u001b[0m\n\u001b[0m",
            "\u001b[0;31mTypeError\u001b[0m: can only concatenate str (not \"int\") to str"
          ]
        }
      ]
    },
    {
      "cell_type": "markdown",
      "id": "069d6eba",
      "metadata": {
        "id": "069d6eba"
      },
      "source": [
        "## 📤 Submit\n",
        "Make sure your name is at the top in a Markdown cell.\n",
        "Submit via D2L or Colab link."
      ]
    }
  ],
  "metadata": {
    "colab": {
      "provenance": []
    },
    "language_info": {
      "name": "python"
    },
    "kernelspec": {
      "name": "python3",
      "display_name": "Python 3"
    }
  },
  "nbformat": 4,
  "nbformat_minor": 5
}