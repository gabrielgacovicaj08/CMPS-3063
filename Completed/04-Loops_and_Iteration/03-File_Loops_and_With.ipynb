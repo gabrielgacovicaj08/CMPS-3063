{
  "cells": [
    {
      "cell_type": "markdown",
      "id": "2843d4ba",
      "metadata": {
        "id": "2843d4ba"
      },
      "source": [
        "# 📘 03 - File Loops and `with`\n",
        "\n",
        "Use `with open(...)` to read files and process content."
      ]
    },
    {
      "cell_type": "markdown",
      "id": "4d270565",
      "metadata": {
        "id": "4d270565"
      },
      "source": [
        "## ✅ Learning Goals\n",
        "- Open and read files using `with`\n",
        "- Loop over lines in a file\n",
        "- Use `.strip()` and `.split()` to process text"
      ]
    },
    {
      "cell_type": "code",
      "execution_count": 5,
      "id": "4ac4df0a",
      "metadata": {
        "id": "4ac4df0a",
        "outputId": "ac494c1a-6c4d-4439-b28f-03c143c2edfc",
        "colab": {
          "base_uri": "https://localhost:8080/"
        }
      },
      "outputs": [
        {
          "output_type": "stream",
          "name": "stdout",
          "text": [
            "Digital forensic presentation speech,\n",
            "\n",
            "Today, I want to give you a brief but powerful overview of one of the most shocking true crime stories in recent American history: the Murdaugh case.\n",
            "\n",
            "This case revolves around Alex Murdaugh, a prominent South Carolina attorney from a powerful legal family. For generations, the Murdaughs had major influence over the legal system in the Lowcountry region. But behind the prestige was a dark and tragic story that unraveled over the last few years.\n",
            "\n",
            "The turning point came on June 7, 2021, when Alex called 911 to report that his wife, Maggie, and their 22-year-old son, Paul, had been shot and killed on their family’s hunting estate. At first, Alex appeared to be a grieving husband and father. But soon, investigators started uncovering a disturbing web of lies, financial crimes, and possible motives.\n",
            "\n",
            "At the time of the murders, Paul was awaiting trial for a 2019 boat crash that killed a young woman named Mallory Beach—an event that had already brought scrutiny to the family. On top of that, Alex was allegedly embezzling millions of dollars from his law firm and clients, and pressure was mounting.\n",
            "\n",
            "In 2023, after a highly publicized trial filled with dramatic testimony, Alex Murdaugh was found guilty of the murders of his wife and son. The prosecution argued that he committed the murders to gain sympathy and distract from his financial crimes. The jury agreed, and he was sentenced to life in prison without the possibility of parole.\n",
            "\n",
            "But the story doesn’t end there. Murdaugh still faces over 100 financial-related charges, including fraud, money laundering, and theft from clients—including the families of people who had died in tragic accidents.\n",
            "\n",
            "The Murdaugh case is more than just a murder trial. It's a chilling example of power, corruption, and downfall. It exposed how deeply personal and legal systems can become entangled—and how justice, though delayed, can ultimately be served.\n",
            "\n",
            "Thank you.\n"
          ]
        }
      ],
      "source": [
        "# 📝 Sample file read\n",
        "with open('DigitalFSpeech.txt', 'r') as file:\n",
        "    for line in file:\n",
        "        print(line.strip())"
      ]
    },
    {
      "cell_type": "code",
      "execution_count": 6,
      "id": "4f430e6d",
      "metadata": {
        "id": "4f430e6d",
        "outputId": "00183757-a9e1-4213-84b1-d260940b9790",
        "colab": {
          "base_uri": "https://localhost:8080/"
        }
      },
      "outputs": [
        {
          "output_type": "stream",
          "name": "stdout",
          "text": [
            "Parts: ['Digital forensic presentation speech', '']\n",
            "Parts: ['']\n",
            "Parts: ['Today', ' I want to give you a brief but powerful overview of one of the most shocking true crime stories in recent American history: the Murdaugh case.']\n",
            "Parts: ['']\n",
            "Parts: ['This case revolves around Alex Murdaugh', ' a prominent South Carolina attorney from a powerful legal family. For generations', ' the Murdaughs had major influence over the legal system in the Lowcountry region. But behind the prestige was a dark and tragic story that unraveled over the last few years.']\n",
            "Parts: ['']\n",
            "Parts: ['The turning point came on June 7', ' 2021', ' when Alex called 911 to report that his wife', ' Maggie', ' and their 22-year-old son', ' Paul', ' had been shot and killed on their family’s hunting estate. At first', ' Alex appeared to be a grieving husband and father. But soon', ' investigators started uncovering a disturbing web of lies', ' financial crimes', ' and possible motives.']\n",
            "Parts: ['']\n",
            "Parts: ['At the time of the murders', ' Paul was awaiting trial for a 2019 boat crash that killed a young woman named Mallory Beach—an event that had already brought scrutiny to the family. On top of that', ' Alex was allegedly embezzling millions of dollars from his law firm and clients', ' and pressure was mounting.']\n",
            "Parts: ['']\n",
            "Parts: ['In 2023', ' after a highly publicized trial filled with dramatic testimony', ' Alex Murdaugh was found guilty of the murders of his wife and son. The prosecution argued that he committed the murders to gain sympathy and distract from his financial crimes. The jury agreed', ' and he was sentenced to life in prison without the possibility of parole.']\n",
            "Parts: ['']\n",
            "Parts: ['But the story doesn’t end there. Murdaugh still faces over 100 financial-related charges', ' including fraud', ' money laundering', ' and theft from clients—including the families of people who had died in tragic accidents.']\n",
            "Parts: ['']\n",
            "Parts: [\"The Murdaugh case is more than just a murder trial. It's a chilling example of power\", ' corruption', ' and downfall. It exposed how deeply personal and legal systems can become entangled—and how justice', ' though delayed', ' can ultimately be served.']\n",
            "Parts: ['']\n",
            "Parts: ['Thank you.']\n"
          ]
        }
      ],
      "source": [
        "# 🔍 Process each line\n",
        "with open('DigitalFSpeech.txt', 'r') as f:\n",
        "    for line in f:\n",
        "        parts = line.strip().split(',')\n",
        "        print('Parts:', parts)"
      ]
    },
    {
      "cell_type": "markdown",
      "id": "c5f556e4",
      "metadata": {
        "id": "c5f556e4"
      },
      "source": [
        "### ✏️ Your Turn\n",
        "Open a text file and print all lines that contain more than 3 words."
      ]
    },
    {
      "cell_type": "code",
      "execution_count": 7,
      "id": "0c72a05f",
      "metadata": {
        "id": "0c72a05f",
        "outputId": "c25e2422-dac0-497c-afbf-2428df864044",
        "colab": {
          "base_uri": "https://localhost:8080/"
        }
      },
      "outputs": [
        {
          "output_type": "stream",
          "name": "stdout",
          "text": [
            "Digital forensic presentation speech,\n",
            "\n",
            "Today, I want to give you a brief but powerful overview of one of the most shocking true crime stories in recent American history: the Murdaugh case.\n",
            "\n",
            "This case revolves around Alex Murdaugh, a prominent South Carolina attorney from a powerful legal family. For generations, the Murdaughs had major influence over the legal system in the Lowcountry region. But behind the prestige was a dark and tragic story that unraveled over the last few years.\n",
            "\n",
            "The turning point came on June 7, 2021, when Alex called 911 to report that his wife, Maggie, and their 22-year-old son, Paul, had been shot and killed on their family’s hunting estate. At first, Alex appeared to be a grieving husband and father. But soon, investigators started uncovering a disturbing web of lies, financial crimes, and possible motives.\n",
            "\n",
            "At the time of the murders, Paul was awaiting trial for a 2019 boat crash that killed a young woman named Mallory Beach—an event that had already brought scrutiny to the family. On top of that, Alex was allegedly embezzling millions of dollars from his law firm and clients, and pressure was mounting.\n",
            "\n",
            "In 2023, after a highly publicized trial filled with dramatic testimony, Alex Murdaugh was found guilty of the murders of his wife and son. The prosecution argued that he committed the murders to gain sympathy and distract from his financial crimes. The jury agreed, and he was sentenced to life in prison without the possibility of parole.\n",
            "\n",
            "But the story doesn’t end there. Murdaugh still faces over 100 financial-related charges, including fraud, money laundering, and theft from clients—including the families of people who had died in tragic accidents.\n",
            "\n",
            "The Murdaugh case is more than just a murder trial. It's a chilling example of power, corruption, and downfall. It exposed how deeply personal and legal systems can become entangled—and how justice, though delayed, can ultimately be served.\n",
            "\n",
            "Thank you.\n"
          ]
        }
      ],
      "source": [
        "# Tip: use `len(line.split()) > 3` to check\n",
        "with open(\"DigitalFSpeech.txt\", 'r') as f:\n",
        "  for line in f:\n",
        "    if len(line.strip()) > 3:\n",
        "      print(line)"
      ]
    },
    {
      "cell_type": "code",
      "source": [],
      "metadata": {
        "id": "ofzgfHs-w5Wa"
      },
      "id": "ofzgfHs-w5Wa",
      "execution_count": null,
      "outputs": []
    }
  ],
  "metadata": {
    "colab": {
      "provenance": []
    },
    "language_info": {
      "name": "python"
    },
    "kernelspec": {
      "name": "python3",
      "display_name": "Python 3"
    }
  },
  "nbformat": 4,
  "nbformat_minor": 5
}