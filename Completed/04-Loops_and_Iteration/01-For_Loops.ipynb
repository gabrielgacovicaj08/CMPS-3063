{
  "cells": [
    {
      "cell_type": "markdown",
      "id": "813b2cf5",
      "metadata": {
        "id": "813b2cf5"
      },
      "source": [
        "# 📘 01 - For Loops\n",
        "\n",
        "Learn how to use `for` loops to iterate over sequences."
      ]
    },
    {
      "cell_type": "markdown",
      "id": "f6afd4b0",
      "metadata": {
        "id": "f6afd4b0"
      },
      "source": [
        "## ✅ Learning Goals\n",
        "- Use `for` with lists, strings, and `range()`\n",
        "- Understand loop variables and block structure"
      ]
    },
    {
      "cell_type": "code",
      "execution_count": 1,
      "id": "16d9ab8e",
      "metadata": {
        "id": "16d9ab8e",
        "outputId": "5cd2eae7-aea2-4647-daa3-17715467bcbd",
        "colab": {
          "base_uri": "https://localhost:8080/"
        }
      },
      "outputs": [
        {
          "output_type": "stream",
          "name": "stdout",
          "text": [
            "apple\n",
            "banana\n",
            "cherry\n"
          ]
        }
      ],
      "source": [
        "# 🔁 Loop over a list\n",
        "fruits = ['apple', 'banana', 'cherry']\n",
        "for fruit in fruits:\n",
        "    print(fruit)"
      ]
    },
    {
      "cell_type": "code",
      "execution_count": 2,
      "id": "141bbd6b",
      "metadata": {
        "id": "141bbd6b",
        "outputId": "d469d2d9-cd2f-46e6-f474-5283626cab87",
        "colab": {
          "base_uri": "https://localhost:8080/"
        }
      },
      "outputs": [
        {
          "output_type": "stream",
          "name": "stdout",
          "text": [
            "h\n",
            "e\n",
            "l\n",
            "l\n",
            "o\n"
          ]
        }
      ],
      "source": [
        "# 🔁 Loop over characters in a string\n",
        "word = 'hello'\n",
        "for char in word:\n",
        "    print(char)"
      ]
    },
    {
      "cell_type": "code",
      "execution_count": 3,
      "id": "76012a44",
      "metadata": {
        "id": "76012a44",
        "outputId": "2afd29d8-6fd6-45c4-de56-cf1ad45c04d4",
        "colab": {
          "base_uri": "https://localhost:8080/"
        }
      },
      "outputs": [
        {
          "output_type": "stream",
          "name": "stdout",
          "text": [
            "0\n",
            "1\n",
            "2\n",
            "3\n",
            "4\n"
          ]
        }
      ],
      "source": [
        "# 🔁 Using range()\n",
        "for i in range(5):\n",
        "    print(i)"
      ]
    },
    {
      "cell_type": "code",
      "execution_count": 4,
      "id": "43070de7",
      "metadata": {
        "id": "43070de7",
        "outputId": "581d6802-4a5c-4a69-83b4-660d97dad1b6",
        "colab": {
          "base_uri": "https://localhost:8080/"
        }
      },
      "outputs": [
        {
          "output_type": "stream",
          "name": "stdout",
          "text": [
            "1 squared is 1\n",
            "2 squared is 4\n",
            "3 squared is 9\n",
            "4 squared is 16\n",
            "5 squared is 25\n"
          ]
        }
      ],
      "source": [
        "# ➕ Loop with math\n",
        "for i in range(1, 6):\n",
        "    print(f'{i} squared is', i ** 2)"
      ]
    },
    {
      "cell_type": "markdown",
      "id": "7f3e0f91",
      "metadata": {
        "id": "7f3e0f91"
      },
      "source": [
        "### ✏️ Your Turn\n",
        "Loop over a list of 3 favorite movies and print them in all caps."
      ]
    },
    {
      "cell_type": "code",
      "source": [
        "favoriteMovies = [\"La Vita e Bella\", \"My Cousin Vinny\", \"Fight Club\"]"
      ],
      "metadata": {
        "id": "qfofgtN3i6vW"
      },
      "id": "qfofgtN3i6vW",
      "execution_count": 5,
      "outputs": []
    },
    {
      "cell_type": "code",
      "source": [
        "for movie in favoriteMovies:\n",
        "  print(movie.upper())"
      ],
      "metadata": {
        "id": "Z5KnyYk3jF-L",
        "outputId": "6e3a9e3b-4cf3-4680-83bc-0c18aec174ca",
        "colab": {
          "base_uri": "https://localhost:8080/"
        }
      },
      "id": "Z5KnyYk3jF-L",
      "execution_count": 7,
      "outputs": [
        {
          "output_type": "stream",
          "name": "stdout",
          "text": [
            "LA VITA E BELLA\n",
            "MY COUSIN VINNY\n",
            "FIGHT CLUB\n"
          ]
        }
      ]
    },
    {
      "cell_type": "code",
      "source": [],
      "metadata": {
        "id": "Jqw4EuMbjJKw"
      },
      "id": "Jqw4EuMbjJKw",
      "execution_count": null,
      "outputs": []
    }
  ],
  "metadata": {
    "colab": {
      "provenance": []
    },
    "language_info": {
      "name": "python"
    },
    "kernelspec": {
      "name": "python3",
      "display_name": "Python 3"
    }
  },
  "nbformat": 4,
  "nbformat_minor": 5
}