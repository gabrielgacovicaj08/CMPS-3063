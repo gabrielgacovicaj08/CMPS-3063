{
  "cells": [
    {
      "cell_type": "markdown",
      "id": "d0fe0fb4",
      "metadata": {
        "id": "d0fe0fb4"
      },
      "source": [
        "# 📘 02 - While Loops\n",
        "\n",
        "Learn how to repeat logic using conditions."
      ]
    },
    {
      "cell_type": "markdown",
      "id": "72469f87",
      "metadata": {
        "id": "72469f87"
      },
      "source": [
        "## ✅ Learning Goals\n",
        "- Use `while` with a condition\n",
        "- Understand infinite loops and loop control"
      ]
    },
    {
      "cell_type": "code",
      "execution_count": 1,
      "id": "a73a22aa",
      "metadata": {
        "id": "a73a22aa",
        "outputId": "248f2500-220e-4ef1-ea11-8406583513dc",
        "colab": {
          "base_uri": "https://localhost:8080/"
        }
      },
      "outputs": [
        {
          "output_type": "stream",
          "name": "stdout",
          "text": [
            "Count: 1\n",
            "Count: 2\n",
            "Count: 3\n",
            "Count: 4\n",
            "Count: 5\n"
          ]
        }
      ],
      "source": [
        "# 🔁 Count up to 5\n",
        "counter = 1\n",
        "while counter <= 5:\n",
        "    print('Count:', counter)\n",
        "    counter += 1"
      ]
    },
    {
      "cell_type": "code",
      "execution_count": 2,
      "id": "f219e7e8",
      "metadata": {
        "id": "f219e7e8",
        "outputId": "84347a77-587e-481a-cfee-f9afaab0f0b7",
        "colab": {
          "base_uri": "https://localhost:8080/"
        }
      },
      "outputs": [
        {
          "output_type": "stream",
          "name": "stdout",
          "text": [
            "x is 0\n",
            "x is 1\n",
            "x is 2\n"
          ]
        }
      ],
      "source": [
        "# 🚫 Avoid infinite loop\n",
        "x = 0\n",
        "while x < 3:\n",
        "    print('x is', x)\n",
        "    x += 1"
      ]
    },
    {
      "cell_type": "code",
      "execution_count": 3,
      "id": "c4b457cd",
      "metadata": {
        "id": "c4b457cd",
        "outputId": "76545558-d922-4038-e699-bc831410610f",
        "colab": {
          "base_uri": "https://localhost:8080/"
        }
      },
      "outputs": [
        {
          "output_type": "stream",
          "name": "stdout",
          "text": [
            "1\n",
            "2\n",
            "4\n",
            "5\n"
          ]
        }
      ],
      "source": [
        "# ⚠️ Break and continue\n",
        "n = 0\n",
        "while True:\n",
        "    n += 1\n",
        "    if n == 3:\n",
        "        continue\n",
        "    if n == 6:\n",
        "        break\n",
        "    print(n)"
      ]
    },
    {
      "cell_type": "markdown",
      "id": "f238b0da",
      "metadata": {
        "id": "f238b0da"
      },
      "source": [
        "### ✏️ Your Turn\n",
        "Use a while loop to print numbers 10 to 1 in reverse."
      ]
    },
    {
      "cell_type": "code",
      "source": [
        "n = 10\n",
        "while n > 0:\n",
        "  print(n)\n",
        "  n = n-1"
      ],
      "metadata": {
        "id": "i91JD7W_lOr7",
        "outputId": "5087a440-eda4-4195-84b4-d1638b4188e6",
        "colab": {
          "base_uri": "https://localhost:8080/"
        }
      },
      "id": "i91JD7W_lOr7",
      "execution_count": 4,
      "outputs": [
        {
          "output_type": "stream",
          "name": "stdout",
          "text": [
            "10\n",
            "9\n",
            "8\n",
            "7\n",
            "6\n",
            "5\n",
            "4\n",
            "3\n",
            "2\n",
            "1\n"
          ]
        }
      ]
    },
    {
      "cell_type": "code",
      "source": [],
      "metadata": {
        "id": "DbYUe71qldc6"
      },
      "id": "DbYUe71qldc6",
      "execution_count": null,
      "outputs": []
    }
  ],
  "metadata": {
    "colab": {
      "provenance": []
    },
    "language_info": {
      "name": "python"
    },
    "kernelspec": {
      "name": "python3",
      "display_name": "Python 3"
    }
  },
  "nbformat": 4,
  "nbformat_minor": 5
}