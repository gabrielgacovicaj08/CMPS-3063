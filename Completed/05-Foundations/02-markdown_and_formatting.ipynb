{
  "cells": [
    {
      "cell_type": "markdown",
      "metadata": {
        "id": "_nbduK1z4DV4"
      },
      "source": [
        "# 📝 02 - Markdown and Formatting\n",
        "\n",
        "Jupyter notebooks are not just for code — you can mix **Markdown** and code to create clear, professional-looking reports.\n",
        "\n",
        "This notebook introduces:\n",
        "- Writing Markdown cells (headings, lists, links)\n",
        "- Adding inline **LaTeX math**\n",
        "- Embedding images\n",
        "- Why formatting matters in data science communication\n"
      ],
      "id": "_nbduK1z4DV4"
    },
    {
      "cell_type": "markdown",
      "metadata": {
        "id": "KSfg9LXi4DWA"
      },
      "source": [
        "## 1. Headings and Text Styles"
      ],
      "id": "KSfg9LXi4DWA"
    },
    {
      "cell_type": "markdown",
      "metadata": {
        "id": "tqiRI-Xh4DWB"
      },
      "source": [
        "### Example\n",
        "# Heading 1\n",
        "## Heading 2\n",
        "### Heading 3\n",
        "\n",
        "**Bold text**, *italic text*, `inline code`"
      ],
      "id": "tqiRI-Xh4DWB"
    },
    {
      "cell_type": "markdown",
      "metadata": {
        "id": "jT3eeeoe4DWC"
      },
      "source": [
        "✅ **Your Turn**: Create a cell with the heading `## My Favorite Data Tools` and list at least three tools in bold.\n",
        "\n"
      ],
      "id": "jT3eeeoe4DWC"
    },
    {
      "cell_type": "markdown",
      "source": [
        "## My Favorite Tools\n",
        "- with open()\n",
        "- .strip()\n",
        "- if"
      ],
      "metadata": {
        "id": "R3b0A4hu87KR"
      },
      "id": "R3b0A4hu87KR"
    },
    {
      "cell_type": "markdown",
      "metadata": {
        "id": "hBVc8rz44DWC"
      },
      "source": [
        "## 2. Lists"
      ],
      "id": "hBVc8rz44DWC"
    },
    {
      "cell_type": "markdown",
      "metadata": {
        "id": "5MdDdRcf4DWD"
      },
      "source": [
        "### Example\n",
        "- Item 1\n",
        "- Item 2\n",
        "  - Sub-item 2a\n",
        "  - Sub-item 2b\n",
        "\n",
        "1. First\n",
        "2. Second\n",
        "3. Third"
      ],
      "id": "5MdDdRcf4DWD"
    },
    {
      "cell_type": "markdown",
      "metadata": {
        "id": "Gk4cFW_P4DWE"
      },
      "source": [
        "✅ **Your Turn**: Make an ordered list of your top 3 programming languages."
      ],
      "id": "Gk4cFW_P4DWE"
    },
    {
      "cell_type": "markdown",
      "source": [
        "1. Python\n",
        "2. C++\n",
        "3. Java\n",
        "\n",
        "\n"
      ],
      "metadata": {
        "id": "oUA-gXVC8f1A"
      },
      "id": "oUA-gXVC8f1A"
    },
    {
      "cell_type": "markdown",
      "metadata": {
        "id": "gau-BjXz4DWE"
      },
      "source": [
        "## 3. Links and Images"
      ],
      "id": "gau-BjXz4DWE"
    },
    {
      "cell_type": "markdown",
      "metadata": {
        "id": "55bTfBEI4DWF"
      },
      "source": [
        "### Links\n",
        "[OpenAI](https://www.openai.com)\n",
        "\n",
        "### Images\n",
        "![MSU Logo](https://upload.wikimedia.org/wikipedia/en/8/8b/Midwestern_State_University_seal.png)"
      ],
      "id": "55bTfBEI4DWF"
    },
    {
      "cell_type": "markdown",
      "metadata": {
        "id": "-kq-ifgi4DWG"
      },
      "source": [
        "✅ **Your Turn**: Insert a link to your favorite website and embed an image (can be a URL or local file)."
      ],
      "id": "-kq-ifgi4DWG"
    },
    {
      "cell_type": "markdown",
      "source": [
        "### Link\n",
        "[ChatGPT](https://chatgpt.com)\n",
        "\n",
        "### Image\n",
        "![Myself](https://msumustangs.com/images/2025/8/16/25_MS_HS_Gabriel_Gacovicaj.jpg?width=300)"
      ],
      "metadata": {
        "id": "Ex3hEj7M9wAp"
      },
      "id": "Ex3hEj7M9wAp"
    },
    {
      "cell_type": "markdown",
      "metadata": {
        "id": "eLLeEM3U4DWH"
      },
      "source": [
        "## 4. LaTeX Math"
      ],
      "id": "eLLeEM3U4DWH"
    },
    {
      "cell_type": "markdown",
      "metadata": {
        "id": "C6oMIncw4DWI"
      },
      "source": [
        "You can render math using LaTeX syntax inside `$ ... $` for inline or `$$ ... $$` for block math.\n",
        "\n",
        "Example:  \n",
        "Inline: $E = mc^2$  \n",
        "Block:\n",
        "$$\n",
        "\\frac{\\partial f}{\\partial x} = 2x\n",
        "$$"
      ],
      "id": "C6oMIncw4DWI"
    },
    {
      "cell_type": "markdown",
      "metadata": {
        "id": "LVohKQ9F4DWI"
      },
      "source": [
        "✅ **Your Turn**: Write the quadratic formula in LaTeX."
      ],
      "id": "LVohKQ9F4DWI"
    },
    {
      "cell_type": "markdown",
      "metadata": {
        "id": "Od7tizv24DWJ"
      },
      "source": [
        "## 5. Mixing Code and Markdown"
      ],
      "id": "Od7tizv24DWJ"
    },
    {
      "cell_type": "code",
      "execution_count": 3,
      "metadata": {
        "id": "9taqVWl84DWJ",
        "outputId": "e8a68d4a-ab22-42ab-cc19-fda978641d99",
        "colab": {
          "base_uri": "https://localhost:8080/"
        }
      },
      "outputs": [
        {
          "output_type": "execute_result",
          "data": {
            "text/plain": [
              "[1, 4, 9, 16, 25]"
            ]
          },
          "metadata": {},
          "execution_count": 3
        }
      ],
      "source": [
        "# Example: create data in Python\n",
        "numbers = [1, 2, 3, 4, 5]\n",
        "squares = [n**2 for n in numbers]\n",
        "squares"
      ],
      "id": "9taqVWl84DWJ"
    },
    {
      "cell_type": "markdown",
      "metadata": {
        "id": "B-FE6hQr4DWL"
      },
      "source": [
        "Now we explain results in Markdown:\n",
        "- The list `numbers` contained 1–5.\n",
        "- The list `squares` contains each number squared.\n",
        "- Mixing narrative + results is why notebooks are so powerful."
      ],
      "id": "B-FE6hQr4DWL"
    },
    {
      "cell_type": "markdown",
      "metadata": {
        "id": "MUcnfqns4DWM"
      },
      "source": [
        "✅ **Your Turn**: Create a list of 3 numbers, calculate their cubes in code, then explain in Markdown."
      ],
      "id": "MUcnfqns4DWM"
    },
    {
      "cell_type": "markdown",
      "metadata": {
        "id": "QbcfzFLR4DWM"
      },
      "source": [
        "---\n",
        "### Summary\n",
        "- Use headings and formatting to organize.\n",
        "- Lists and links make content readable.\n",
        "- LaTeX lets you add professional math.\n",
        "- Combine code + Markdown for clear data storytelling.\n"
      ],
      "id": "QbcfzFLR4DWM"
    }
  ],
  "metadata": {
    "kernelspec": {
      "display_name": "Python 3",
      "language": "python",
      "name": "python3"
    },
    "language_info": {
      "name": "python",
      "version": "3.x"
    },
    "colab": {
      "provenance": []
    }
  },
  "nbformat": 4,
  "nbformat_minor": 5
}