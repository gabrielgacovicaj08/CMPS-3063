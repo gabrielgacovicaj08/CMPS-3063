{
  "cells": [
    {
      "cell_type": "markdown",
      "metadata": {
        "id": "JcdHEnaAxdyf"
      },
      "source": [
        "# 🧙 Magic Commands Demo Notebook\n",
        "\n",
        "This notebook introduces some of the most useful **IPython magic commands** in Jupyter.  \n",
        "Run each cell and see what happens!"
      ],
      "id": "JcdHEnaAxdyf"
    },
    {
      "cell_type": "markdown",
      "metadata": {
        "id": "HfjUnQYkxdyj"
      },
      "source": [
        "## 1. Timing and Performance"
      ],
      "id": "HfjUnQYkxdyj"
    },
    {
      "cell_type": "code",
      "execution_count": 1,
      "metadata": {
        "id": "_y27VQnFxdyl",
        "outputId": "85efd38f-79aa-49bb-c39a-f3ac63aa22be",
        "colab": {
          "base_uri": "https://localhost:8080/"
        }
      },
      "outputs": [
        {
          "output_type": "stream",
          "name": "stdout",
          "text": [
            "CPU times: user 22.7 ms, sys: 81 µs, total: 22.8 ms\n",
            "Wall time: 22.7 ms\n"
          ]
        },
        {
          "output_type": "execute_result",
          "data": {
            "text/plain": [
              "499999500000"
            ]
          },
          "metadata": {},
          "execution_count": 1
        }
      ],
      "source": [
        "%time sum(range(1_000_000))"
      ],
      "id": "_y27VQnFxdyl"
    },
    {
      "cell_type": "code",
      "execution_count": 2,
      "metadata": {
        "id": "O-64zMtOxdyn",
        "outputId": "adbb64ec-3247-40a1-8c09-2ac61d8ebf60",
        "colab": {
          "base_uri": "https://localhost:8080/"
        }
      },
      "outputs": [
        {
          "output_type": "stream",
          "name": "stdout",
          "text": [
            "63.6 ms ± 29.7 ms per loop (mean ± std. dev. of 7 runs, 10 loops each)\n"
          ]
        }
      ],
      "source": [
        "%timeit sum(range(1_000_000))"
      ],
      "id": "O-64zMtOxdyn"
    },
    {
      "cell_type": "code",
      "execution_count": 3,
      "metadata": {
        "id": "BKJArQH3xdyo",
        "outputId": "e44a179b-73a2-4cc9-941f-d74e8b3384cc",
        "colab": {
          "base_uri": "https://localhost:8080/"
        }
      },
      "outputs": [
        {
          "output_type": "stream",
          "name": "stdout",
          "text": [
            "CPU times: user 118 ms, sys: 85 µs, total: 118 ms\n",
            "Wall time: 119 ms\n"
          ]
        }
      ],
      "source": [
        "%%time\n",
        "total = 0\n",
        "for i in range(1_000_000):\n",
        "    total += i"
      ],
      "id": "BKJArQH3xdyo"
    },
    {
      "cell_type": "markdown",
      "metadata": {
        "id": "DTGBE2Bqxdyp"
      },
      "source": [
        "## 2. Working with Files"
      ],
      "id": "DTGBE2Bqxdyp"
    },
    {
      "cell_type": "code",
      "execution_count": 4,
      "metadata": {
        "id": "LabQjahQxdyp",
        "outputId": "daaa85bf-019f-49ad-89de-18c9abc2c08a",
        "colab": {
          "base_uri": "https://localhost:8080/",
          "height": 36
        }
      },
      "outputs": [
        {
          "output_type": "execute_result",
          "data": {
            "text/plain": [
              "'/content'"
            ],
            "application/vnd.google.colaboratory.intrinsic+json": {
              "type": "string"
            }
          },
          "metadata": {},
          "execution_count": 4
        }
      ],
      "source": [
        "%pwd"
      ],
      "id": "LabQjahQxdyp"
    },
    {
      "cell_type": "code",
      "execution_count": 5,
      "metadata": {
        "id": "9pZkmOxBxdyq",
        "outputId": "05cdfc25-4bb1-4649-ee37-92819e3955a5",
        "colab": {
          "base_uri": "https://localhost:8080/"
        }
      },
      "outputs": [
        {
          "output_type": "stream",
          "name": "stdout",
          "text": [
            "\u001b[0m\u001b[01;34msample_data\u001b[0m/\n"
          ]
        }
      ],
      "source": [
        "%ls"
      ],
      "id": "9pZkmOxBxdyq"
    },
    {
      "cell_type": "code",
      "execution_count": 6,
      "metadata": {
        "id": "3_gA_G6hxdyr",
        "outputId": "96c7e4a1-bf6b-4562-a013-36f84e28fee5",
        "colab": {
          "base_uri": "https://localhost:8080/",
          "height": 53
        }
      },
      "outputs": [
        {
          "output_type": "stream",
          "name": "stdout",
          "text": [
            "/\n"
          ]
        },
        {
          "output_type": "execute_result",
          "data": {
            "text/plain": [
              "'/'"
            ],
            "application/vnd.google.colaboratory.intrinsic+json": {
              "type": "string"
            }
          },
          "metadata": {},
          "execution_count": 6
        }
      ],
      "source": [
        "%cd ..\n",
        "%pwd"
      ],
      "id": "3_gA_G6hxdyr"
    },
    {
      "cell_type": "markdown",
      "metadata": {
        "id": "_siPbJ2zxdys"
      },
      "source": [
        "## 3. Variables in Memory"
      ],
      "id": "_siPbJ2zxdys"
    },
    {
      "cell_type": "code",
      "execution_count": 7,
      "metadata": {
        "id": "z7j8kP86xdyt",
        "outputId": "89e1e567-208e-40a5-96ac-140518b95706",
        "colab": {
          "base_uri": "https://localhost:8080/"
        }
      },
      "outputs": [
        {
          "output_type": "stream",
          "name": "stdout",
          "text": [
            "a\t b\t c\t i\t total\t \n"
          ]
        }
      ],
      "source": [
        "a = 42\n",
        "b = [1, 2, 3]\n",
        "c = {\"name\": \"Graylian\"}\n",
        "\n",
        "%who"
      ],
      "id": "z7j8kP86xdyt"
    },
    {
      "cell_type": "code",
      "execution_count": 8,
      "metadata": {
        "id": "3QGOH0prxdyu",
        "outputId": "a69d64c5-1f4f-414b-cbdc-ab7b57fcba1a",
        "colab": {
          "base_uri": "https://localhost:8080/"
        }
      },
      "outputs": [
        {
          "output_type": "stream",
          "name": "stdout",
          "text": [
            "Variable   Type    Data/Info\n",
            "----------------------------\n",
            "a          int     42\n",
            "b          list    n=3\n",
            "c          dict    n=1\n",
            "i          int     999999\n",
            "total      int     499999500000\n"
          ]
        }
      ],
      "source": [
        "%whos"
      ],
      "id": "3QGOH0prxdyu"
    },
    {
      "cell_type": "code",
      "execution_count": 9,
      "metadata": {
        "id": "js9APxBuxdyv"
      },
      "outputs": [],
      "source": [
        "# %reset"
      ],
      "id": "js9APxBuxdyv"
    },
    {
      "cell_type": "markdown",
      "metadata": {
        "id": "JFWPhayexdyv"
      },
      "source": [
        "## 4. Debugging and Introspection"
      ],
      "id": "JFWPhayexdyv"
    },
    {
      "cell_type": "code",
      "execution_count": 10,
      "metadata": {
        "id": "tF0sx7Qlxdyw",
        "outputId": "07797133-0413-4265-a7b4-17b58cd1494b",
        "colab": {
          "base_uri": "https://localhost:8080/",
          "height": 141
        }
      },
      "outputs": [
        {
          "output_type": "error",
          "ename": "ZeroDivisionError",
          "evalue": "division by zero",
          "traceback": [
            "\u001b[0;31m---------------------------------------------------------------------------\u001b[0m",
            "\u001b[0;31mZeroDivisionError\u001b[0m                         Traceback (most recent call last)",
            "\u001b[0;32m/tmp/ipython-input-1455669704.py\u001b[0m in \u001b[0;36m<cell line: 0>\u001b[0;34m()\u001b[0m\n\u001b[0;32m----> 1\u001b[0;31m \u001b[0;36m1\u001b[0m \u001b[0;34m/\u001b[0m \u001b[0;36m0\u001b[0m\u001b[0;34m\u001b[0m\u001b[0;34m\u001b[0m\u001b[0m\n\u001b[0m",
            "\u001b[0;31mZeroDivisionError\u001b[0m: division by zero"
          ]
        }
      ],
      "source": [
        "1 / 0"
      ],
      "id": "tF0sx7Qlxdyw"
    },
    {
      "cell_type": "code",
      "execution_count": 11,
      "metadata": {
        "id": "sBDzRSr8xdyw",
        "outputId": "e11b99a0-09cb-4f7a-d4da-cf2071e89b39",
        "colab": {
          "base_uri": "https://localhost:8080/"
        }
      },
      "outputs": [
        {
          "output_type": "stream",
          "name": "stdout",
          "text": [
            "> \u001b[0;32m/tmp/ipython-input-1455669704.py\u001b[0m(1)\u001b[0;36m<cell line: 0>\u001b[0;34m()\u001b[0m\n",
            "\u001b[0;32m----> 1 \u001b[0;31m\u001b[0;36m1\u001b[0m \u001b[0;34m/\u001b[0m \u001b[0;36m0\u001b[0m\u001b[0;34m\u001b[0m\u001b[0;34m\u001b[0m\u001b[0m\n",
            "\u001b[0m\n",
            "ipdb> \n",
            "ipdb> 1\n",
            "1\n",
            "--KeyboardInterrupt--\n",
            "\n",
            "KeyboardInterrupt: Interrupted by user\n"
          ]
        }
      ],
      "source": [
        "%debug"
      ],
      "id": "sBDzRSr8xdyw"
    },
    {
      "cell_type": "markdown",
      "metadata": {
        "id": "8uh5x8zixdyx"
      },
      "source": [
        "## 5. Writing and Running Files"
      ],
      "id": "8uh5x8zixdyx"
    },
    {
      "cell_type": "code",
      "execution_count": 12,
      "metadata": {
        "id": "ZJK_xlQzxdyx",
        "outputId": "b8bd6f1f-3c12-4ccf-a712-8b2548a4a84c",
        "colab": {
          "base_uri": "https://localhost:8080/"
        }
      },
      "outputs": [
        {
          "output_type": "stream",
          "name": "stdout",
          "text": [
            "Writing hello.py\n"
          ]
        }
      ],
      "source": [
        "%%writefile hello.py\n",
        "print(\"Hello from a file!\")"
      ],
      "id": "ZJK_xlQzxdyx"
    },
    {
      "cell_type": "code",
      "execution_count": 13,
      "metadata": {
        "id": "4Au1B3oaxdyy",
        "outputId": "aca90e73-6907-4b55-d46a-ad5d93338937",
        "colab": {
          "base_uri": "https://localhost:8080/"
        }
      },
      "outputs": [
        {
          "output_type": "stream",
          "name": "stdout",
          "text": [
            "Hello from a file!\n"
          ]
        }
      ],
      "source": [
        "%run hello.py"
      ],
      "id": "4Au1B3oaxdyy"
    },
    {
      "cell_type": "markdown",
      "metadata": {
        "id": "1q_x2a65xdyy"
      },
      "source": [
        "## 6. Output and Formatting"
      ],
      "id": "1q_x2a65xdyy"
    },
    {
      "cell_type": "code",
      "execution_count": 14,
      "metadata": {
        "id": "MsBaZDWNxdyz",
        "outputId": "53dc2aba-8f42-47b9-ee99-2c5b1b50db63",
        "colab": {
          "base_uri": "https://localhost:8080/",
          "height": 176
        }
      },
      "outputs": [
        {
          "output_type": "error",
          "ename": "NameError",
          "evalue": "name 'cap' is not defined",
          "traceback": [
            "\u001b[0;31m---------------------------------------------------------------------------\u001b[0m",
            "\u001b[0;31mNameError\u001b[0m                                 Traceback (most recent call last)",
            "\u001b[0;32m/tmp/ipython-input-1339094390.py\u001b[0m in \u001b[0;36m<cell line: 0>\u001b[0;34m()\u001b[0m\n\u001b[1;32m      1\u001b[0m \u001b[0mprint\u001b[0m\u001b[0;34m(\u001b[0m\u001b[0;34m\"This will not display right away\"\u001b[0m\u001b[0;34m)\u001b[0m\u001b[0;34m\u001b[0m\u001b[0;34m\u001b[0m\u001b[0m\n\u001b[1;32m      2\u001b[0m \u001b[0;34m\u001b[0m\u001b[0m\n\u001b[0;32m----> 3\u001b[0;31m \u001b[0mcap\u001b[0m\u001b[0;34m.\u001b[0m\u001b[0mshow\u001b[0m\u001b[0;34m(\u001b[0m\u001b[0;34m)\u001b[0m\u001b[0;34m\u001b[0m\u001b[0;34m\u001b[0m\u001b[0m\n\u001b[0m",
            "\u001b[0;31mNameError\u001b[0m: name 'cap' is not defined"
          ]
        }
      ],
      "source": [
        "%%capture cap\n",
        "print(\"This will not display right away\")\n",
        "\n",
        "cap.show()"
      ],
      "id": "MsBaZDWNxdyz"
    },
    {
      "cell_type": "code",
      "execution_count": 15,
      "metadata": {
        "id": "xCS2ZS0Txdyz",
        "outputId": "121c1bc4-8f60-4d6d-bdbd-1e0124aec972",
        "colab": {
          "base_uri": "https://localhost:8080/",
          "height": 74
        }
      },
      "outputs": [
        {
          "output_type": "display_data",
          "data": {
            "text/plain": [
              "<IPython.core.display.HTML object>"
            ],
            "text/html": [
              "<h1 style=\"color: maroon\">Magics are Magical ✨</h1>\n"
            ]
          },
          "metadata": {}
        }
      ],
      "source": [
        "%%html\n",
        "<h1 style=\"color: maroon\">Magics are Magical ✨</h1>"
      ],
      "id": "xCS2ZS0Txdyz"
    },
    {
      "cell_type": "code",
      "execution_count": 16,
      "metadata": {
        "id": "dXM56sTKxdy0",
        "outputId": "1eec28de-adce-4206-9bed-039d6293043b",
        "colab": {
          "base_uri": "https://localhost:8080/",
          "height": 100
        }
      },
      "outputs": [
        {
          "output_type": "display_data",
          "data": {
            "text/plain": [
              "<IPython.core.display.Markdown object>"
            ],
            "text/markdown": "# This is a Markdown cell inside code!\n**Bold text** and *italic* still work.\n"
          },
          "metadata": {}
        }
      ],
      "source": [
        "%%markdown\n",
        "# This is a Markdown cell inside code!\n",
        "**Bold text** and *italic* still work."
      ],
      "id": "dXM56sTKxdy0"
    },
    {
      "cell_type": "markdown",
      "metadata": {
        "id": "aJaQ_6bWxdy0"
      },
      "source": [
        "## 7. Discover More"
      ],
      "id": "aJaQ_6bWxdy0"
    },
    {
      "cell_type": "code",
      "execution_count": 17,
      "metadata": {
        "id": "LFGBH0ZUxdy1",
        "outputId": "9514ac86-0660-449d-bf48-12e42f246734",
        "colab": {
          "base_uri": "https://localhost:8080/",
          "height": 1000
        }
      },
      "outputs": [
        {
          "output_type": "execute_result",
          "data": {
            "text/plain": [
              "Available line magics:\n",
              "%alias  %alias_magic  %autoawait  %autocall  %automagic  %autosave  %bookmark  %cat  %cd  %clear  %colors  %conda  %config  %connect_info  %cp  %debug  %dhist  %dirs  %doctest_mode  %ed  %edit  %env  %gui  %hist  %history  %killbgscripts  %ldir  %less  %lf  %lk  %ll  %load  %load_ext  %loadpy  %logoff  %logon  %logstart  %logstate  %logstop  %ls  %lsmagic  %lx  %macro  %magic  %man  %matplotlib  %mkdir  %more  %mv  %notebook  %page  %pastebin  %pdb  %pdef  %pdoc  %pfile  %pinfo  %pinfo2  %pip  %popd  %pprint  %precision  %prun  %psearch  %psource  %pushd  %pwd  %pycat  %pylab  %qtconsole  %quickref  %recall  %rehashx  %reload_ext  %rep  %rerun  %reset  %reset_selective  %rm  %rmdir  %run  %save  %sc  %set_env  %shell  %store  %sx  %system  %tb  %tensorflow_version  %time  %timeit  %unalias  %unload_ext  %who  %who_ls  %whos  %xdel  %xmode\n",
              "\n",
              "Available cell magics:\n",
              "%%!  %%HTML  %%SVG  %%bash  %%bigquery  %%capture  %%debug  %%file  %%html  %%javascript  %%js  %%latex  %%markdown  %%perl  %%prun  %%pypy  %%python  %%python2  %%python3  %%ruby  %%script  %%sh  %%shell  %%spanner_graph  %%svg  %%sx  %%system  %%time  %%timeit  %%writefile\n",
              "\n",
              "Automagic is ON, % prefix IS NOT needed for line magics."
            ],
            "application/json": {
              "line": {
                "automagic": "AutoMagics",
                "autocall": "AutoMagics",
                "alias_magic": "BasicMagics",
                "lsmagic": "BasicMagics",
                "magic": "BasicMagics",
                "page": "BasicMagics",
                "pprint": "BasicMagics",
                "colors": "BasicMagics",
                "xmode": "BasicMagics",
                "quickref": "BasicMagics",
                "doctest_mode": "BasicMagics",
                "gui": "BasicMagics",
                "precision": "BasicMagics",
                "notebook": "BasicMagics",
                "save": "CodeMagics",
                "pastebin": "CodeMagics",
                "loadpy": "CodeMagics",
                "load": "CodeMagics",
                "edit": "KernelMagics",
                "config": "ConfigMagics",
                "prun": "ExecutionMagics",
                "pdb": "ExecutionMagics",
                "debug": "ExecutionMagics",
                "tb": "ExecutionMagics",
                "run": "ExecutionMagics",
                "timeit": "ExecutionMagics",
                "time": "ExecutionMagics",
                "macro": "ExecutionMagics",
                "load_ext": "ExtensionMagics",
                "unload_ext": "ExtensionMagics",
                "reload_ext": "ExtensionMagics",
                "history": "HistoryMagics",
                "recall": "HistoryMagics",
                "rerun": "HistoryMagics",
                "logstart": "LoggingMagics",
                "logstop": "LoggingMagics",
                "logoff": "LoggingMagics",
                "logon": "LoggingMagics",
                "logstate": "LoggingMagics",
                "pinfo": "NamespaceMagics",
                "pinfo2": "NamespaceMagics",
                "pdef": "NamespaceMagics",
                "pdoc": "NamespaceMagics",
                "psource": "NamespaceMagics",
                "pfile": "NamespaceMagics",
                "psearch": "NamespaceMagics",
                "who_ls": "NamespaceMagics",
                "who": "NamespaceMagics",
                "whos": "NamespaceMagics",
                "reset": "NamespaceMagics",
                "reset_selective": "NamespaceMagics",
                "xdel": "NamespaceMagics",
                "alias": "OSMagics",
                "unalias": "OSMagics",
                "rehashx": "OSMagics",
                "pwd": "OSMagics",
                "cd": "OSMagics",
                "env": "OSMagics",
                "set_env": "OSMagics",
                "pushd": "OSMagics",
                "popd": "OSMagics",
                "dirs": "OSMagics",
                "dhist": "OSMagics",
                "sc": "OSMagics",
                "sx": "OSMagics",
                "system": "OSMagics",
                "bookmark": "OSMagics",
                "pycat": "OSMagics",
                "pip": "Other",
                "conda": "PackagingMagics",
                "matplotlib": "PylabMagics",
                "pylab": "PylabMagics",
                "killbgscripts": "ScriptMagics",
                "autoawait": "AsyncMagics",
                "ed": "Other",
                "hist": "Other",
                "rep": "Other",
                "clear": "KernelMagics",
                "less": "KernelMagics",
                "more": "KernelMagics",
                "man": "KernelMagics",
                "connect_info": "KernelMagics",
                "qtconsole": "KernelMagics",
                "autosave": "KernelMagics",
                "mkdir": "Other",
                "rmdir": "Other",
                "mv": "Other",
                "rm": "Other",
                "cp": "Other",
                "cat": "Other",
                "ls": "Other",
                "ll": "Other",
                "lf": "Other",
                "lk": "Other",
                "ldir": "Other",
                "lx": "Other",
                "store": "StoreMagics",
                "shell": "Other",
                "tensorflow_version": "Other"
              },
              "cell": {
                "js": "DisplayMagics",
                "javascript": "DisplayMagics",
                "latex": "DisplayMagics",
                "svg": "DisplayMagics",
                "html": "DisplayMagics",
                "markdown": "DisplayMagics",
                "prun": "ExecutionMagics",
                "debug": "ExecutionMagics",
                "timeit": "ExecutionMagics",
                "time": "ExecutionMagics",
                "capture": "ExecutionMagics",
                "sx": "OSMagics",
                "system": "OSMagics",
                "!": "OSMagics",
                "writefile": "OSMagics",
                "script": "ScriptMagics",
                "sh": "Other",
                "bash": "Other",
                "perl": "Other",
                "ruby": "Other",
                "python": "Other",
                "python2": "Other",
                "python3": "Other",
                "pypy": "Other",
                "SVG": "Other",
                "HTML": "Other",
                "file": "Other",
                "bigquery": "Other",
                "spanner_graph": "Other",
                "shell": "Other"
              }
            }
          },
          "metadata": {},
          "execution_count": 17
        }
      ],
      "source": [
        "%lsmagic"
      ],
      "id": "LFGBH0ZUxdy1"
    },
    {
      "cell_type": "code",
      "execution_count": 18,
      "metadata": {
        "id": "PsGbhHbGxdy1"
      },
      "outputs": [],
      "source": [
        "%timeit?"
      ],
      "id": "PsGbhHbGxdy1"
    },
    {
      "cell_type": "markdown",
      "metadata": {
        "id": "VenUbFUYxdy1"
      },
      "source": [
        "✅ **Try It Yourself**:  \n",
        "- Use `%timeit` to compare a list comprehension `[x**2 for x in range(1000)]` vs a generator `(x**2 for x in range(1000))`.  \n",
        "- Use `%whos` after defining some variables to see their types.  \n",
        "- Use `%%html` to make your own banner."
      ],
      "id": "VenUbFUYxdy1"
    },
    {
      "cell_type": "code",
      "source": [
        "%timeit [x**2 for x in range(1000)]"
      ],
      "metadata": {
        "id": "y0MKuHoN2562",
        "outputId": "3308e7e7-f6b2-4d76-dead-4b6408db256b",
        "colab": {
          "base_uri": "https://localhost:8080/"
        }
      },
      "id": "y0MKuHoN2562",
      "execution_count": 19,
      "outputs": [
        {
          "output_type": "stream",
          "name": "stdout",
          "text": [
            "87.5 µs ± 22.4 µs per loop (mean ± std. dev. of 7 runs, 10000 loops each)\n"
          ]
        }
      ]
    },
    {
      "cell_type": "code",
      "source": [
        "%timeit (x**2 for x in range(1000))"
      ],
      "metadata": {
        "id": "ux8k_NwJ2-tl",
        "outputId": "e9edc8fa-fb5e-48b2-841c-2bfc5967494a",
        "colab": {
          "base_uri": "https://localhost:8080/"
        }
      },
      "id": "ux8k_NwJ2-tl",
      "execution_count": 20,
      "outputs": [
        {
          "output_type": "stream",
          "name": "stdout",
          "text": [
            "372 ns ± 112 ns per loop (mean ± std. dev. of 7 runs, 1000000 loops each)\n"
          ]
        }
      ]
    },
    {
      "cell_type": "code",
      "source": [
        "%whos"
      ],
      "metadata": {
        "id": "NHrAU8ht3Fg2",
        "outputId": "5aea4b6a-3624-46c6-f632-76ed4b126708",
        "colab": {
          "base_uri": "https://localhost:8080/"
        }
      },
      "id": "NHrAU8ht3Fg2",
      "execution_count": 21,
      "outputs": [
        {
          "output_type": "stream",
          "name": "stdout",
          "text": [
            "Variable   Type          Data/Info\n",
            "----------------------------------\n",
            "a          int           42\n",
            "b          list          n=3\n",
            "c          dict          n=1\n",
            "cap        CapturedIO    This will not display right away\\n\n",
            "i          int           999999\n",
            "total      int           499999500000\n"
          ]
        }
      ]
    },
    {
      "cell_type": "code",
      "source": [
        "%%html\n",
        "<h1>Let's Goooooooooo</h1>"
      ],
      "metadata": {
        "id": "b_MhWfzi3wrw",
        "outputId": "4b717e02-5cea-4be1-f26e-e6641df4f068",
        "colab": {
          "base_uri": "https://localhost:8080/",
          "height": 74
        }
      },
      "id": "b_MhWfzi3wrw",
      "execution_count": 22,
      "outputs": [
        {
          "output_type": "display_data",
          "data": {
            "text/plain": [
              "<IPython.core.display.HTML object>"
            ],
            "text/html": [
              "<h1>Let's Goooooooooo</h1>\n"
            ]
          },
          "metadata": {}
        }
      ]
    },
    {
      "cell_type": "code",
      "source": [],
      "metadata": {
        "id": "uidzxpHg36eb"
      },
      "id": "uidzxpHg36eb",
      "execution_count": null,
      "outputs": []
    }
  ],
  "metadata": {
    "kernelspec": {
      "display_name": "env",
      "language": "python",
      "name": "python3"
    },
    "language_info": {
      "codemirror_mode": {
        "name": "ipython",
        "version": 3
      },
      "file_extension": ".py",
      "mimetype": "text/x-python",
      "name": "python",
      "nbconvert_exporter": "python",
      "pygments_lexer": "ipython3",
      "version": "3.13.7"
    },
    "colab": {
      "provenance": []
    }
  },
  "nbformat": 4,
  "nbformat_minor": 5
}